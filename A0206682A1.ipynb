{
 "cells": [
  {
   "cell_type": "markdown",
   "metadata": {},
   "source": [
    "# Load dataset, add the company name, student matriculation number and rename the power consumption column. "
   ]
  },
  {
   "cell_type": "code",
   "execution_count": null,
   "metadata": {},
   "outputs": [],
   "source": [
    "import pandas as pd\n",
    "\n",
    "df=pd.read_csv(\"Documents/datasets/hourlyenergyconsumption/DominionVirginiaPower.csv\")\n",
    "df.insert(0,\"Company\",\"Dominion Virginia Power\");\n",
    "df[\"MatricNo\"] = \"A0206682A\";\n",
    "df=df.rename(columns={\"DOM_MW\":\"Total_MW\"});\n",
    "df=df.sort_values(df.columns[1])"
   ]
  },
  {
   "cell_type": "markdown",
   "metadata": {},
   "source": [
    "# Set up the connection to AWS and send data to AWS."
   ]
  },
  {
   "cell_type": "code",
   "execution_count": null,
   "metadata": {},
   "outputs": [],
   "source": [
    "from AWSIoTPythonSDK.MQTTLib import AWSIoTMQTTShadowClient\n",
    "import random, time, json\n",
    "\n",
    "# A random programmatic shadow client ID.\n",
    "SHADOW_CLIENT = \"myShadowClient\"\n",
    "\n",
    "# The unique hostname that &IoT; generated for \n",
    "# this device.\n",
    "HOST_NAME = \"ac3gpzrmcfb87-ats.iot.ap-southeast-1.amazonaws.com\"\n",
    "\n",
    "# The relative path to the correct root CA file for &IoT;, \n",
    "# which you have already saved onto this device.\n",
    "ROOT_CA = \"/Users/lydoan/Documents/NUS/EE5111/IOTPROJ/AmazonRootCA1.pem\"\n",
    "\n",
    "# The relative path to your private key file that \n",
    "# &IoT; generated for this device, which you \n",
    "# have already saved onto this device.\n",
    "PRIVATE_KEY = \"/Users/lydoan/Documents/NUS/EE5111/IOTPROJ/274d5b6b8f-private.pem.key\"\n",
    "\n",
    "# The relative path to your certificate file that \n",
    "# &IoT; generated for this device, which you \n",
    "# have already saved onto this device.\n",
    "CERT_FILE = \"/Users/lydoan/Documents/NUS/EE5111/IOTPROJ/274d5b6b8f-certificate.pem.crt\"\n",
    "\n",
    "# A programmatic shadow handler name prefix.\n",
    "SHADOW_HANDLER = \"A0206682A1\"\n",
    "\n",
    "# Automatically called whenever the shadow is updated.\n",
    "def myShadowUpdateCallback(payload, responseStatus, token):\n",
    "  print()\n",
    "  print('UPDATE: $aws/things/' + SHADOW_HANDLER + \n",
    "    '/shadow/update/#')\n",
    "  print(\"payload = \" + payload)\n",
    "  print(\"responseStatus = \" + responseStatus)\n",
    "  print(\"token = \" + token)\n",
    "\n",
    "## Create, configure, and connect a shadow client.\n",
    "myShadowClient = AWSIoTMQTTShadowClient(SHADOW_CLIENT)\n",
    "myShadowClient.configureEndpoint(HOST_NAME, 8883)\n",
    "myShadowClient.configureCredentials(ROOT_CA, PRIVATE_KEY,\n",
    "  CERT_FILE)\n",
    "myShadowClient.configureConnectDisconnectTimeout(10)\n",
    "myShadowClient.configureMQTTOperationTimeout(5)\n",
    "myShadowClient.connect()\n",
    "\n",
    "# Create a programmatic representation of the shadow.\n",
    "myDeviceShadow = myShadowClient.createShadowHandlerWithName(\n",
    "  SHADOW_HANDLER, True)\n",
    "\n",
    "# To stop running this script, press Ctrl+C.\n",
    "while True:\n",
    "#Update the shadow\n",
    "    for i in range (6000):\n",
    "        temp = df.iloc[i]\n",
    "        tmp = temp.to_dict()\n",
    "        jsonPayload= {\"state\":{\"reported\":tmp}}\n",
    "        jsonPayload = json.dumps(jsonPayload)\n",
    "        print (jsonPayload)\n",
    "        print (i)\n",
    "        myDeviceShadow.shadowUpdate(jsonPayload,myShadowUpdateCallback, 5)\n",
    "  # Wait for this test value to be added.\n",
    "        time.sleep(1)           "
   ]
  },
  {
   "cell_type": "code",
   "execution_count": null,
   "metadata": {},
   "outputs": [],
   "source": []
  },
  {
   "cell_type": "code",
   "execution_count": null,
   "metadata": {},
   "outputs": [],
   "source": []
  }
 ],
 "metadata": {
  "kernelspec": {
   "display_name": "Python 3",
   "language": "python",
   "name": "python3"
  },
  "language_info": {
   "codemirror_mode": {
    "name": "ipython",
    "version": 3
   },
   "file_extension": ".py",
   "mimetype": "text/x-python",
   "name": "python",
   "nbconvert_exporter": "python",
   "pygments_lexer": "ipython3",
   "version": "3.7.3"
  }
 },
 "nbformat": 4,
 "nbformat_minor": 2
}
